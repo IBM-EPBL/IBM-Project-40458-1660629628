{
 "cells": [
  {
   "cell_type": "code",
   "execution_count": 1,
   "id": "ec57d24e",
   "metadata": {},
   "outputs": [
    {
     "name": "stdout",
     "output_type": "stream",
     "text": [
      "Found 15341 images belonging to 6 classes.\n",
      "Found 6825 images belonging to 6 classes.\n",
      "Model: \"sequential\"\n",
      "_________________________________________________________________\n",
      " Layer (type)                Output Shape              Param #   \n",
      "=================================================================\n",
      " conv2d (Conv2D)             (None, 62, 62, 32)        896       \n",
      "                                                                 \n",
      " max_pooling2d (MaxPooling2D  (None, 31, 31, 32)       0         \n",
      " )                                                               \n",
      "                                                                 \n",
      " conv2d_1 (Conv2D)           (None, 29, 29, 32)        9248      \n",
      "                                                                 \n",
      " max_pooling2d_1 (MaxPooling  (None, 14, 14, 32)       0         \n",
      " 2D)                                                             \n",
      "                                                                 \n",
      " flatten (Flatten)           (None, 6272)              0         \n",
      "                                                                 \n",
      " dense (Dense)               (None, 32)                200736    \n",
      "                                                                 \n",
      " dense_1 (Dense)             (None, 6)                 198       \n",
      "                                                                 \n",
      "=================================================================\n",
      "Total params: 211,078\n",
      "Trainable params: 211,078\n",
      "Non-trainable params: 0\n",
      "_________________________________________________________________\n"
     ]
    },
    {
     "name": "stderr",
     "output_type": "stream",
     "text": [
      "C:\\Users\\Welcome\\AppData\\Local\\Temp\\ipykernel_1768\\2408709430.py:25: UserWarning: `Model.fit_generator` is deprecated and will be removed in a future version. Please use `Model.fit`, which supports generators.\n",
      "  model.fit_generator(generator=x_train,steps_per_epoch=len(x_train),epochs=10,validation_data=x_test,validation_steps=len(x_test))\n"
     ]
    },
    {
     "name": "stdout",
     "output_type": "stream",
     "text": [
      "Epoch 1/10\n",
      "480/480 [==============================] - 167s 343ms/step - loss: 0.7756 - accuracy: 0.7389 - val_loss: 0.6432 - val_accuracy: 0.7958\n",
      "Epoch 2/10\n",
      "480/480 [==============================] - 133s 277ms/step - loss: 0.2870 - accuracy: 0.9157 - val_loss: 0.4162 - val_accuracy: 0.8677\n",
      "Epoch 3/10\n",
      "480/480 [==============================] - 117s 243ms/step - loss: 0.2211 - accuracy: 0.9353 - val_loss: 0.5200 - val_accuracy: 0.8295\n",
      "Epoch 4/10\n",
      "480/480 [==============================] - 103s 215ms/step - loss: 0.1867 - accuracy: 0.9436 - val_loss: 0.3418 - val_accuracy: 0.8985\n",
      "Epoch 5/10\n",
      "480/480 [==============================] - 88s 183ms/step - loss: 0.1565 - accuracy: 0.9513 - val_loss: 0.3695 - val_accuracy: 0.8901\n",
      "Epoch 6/10\n",
      "480/480 [==============================] - 86s 180ms/step - loss: 0.1403 - accuracy: 0.9566 - val_loss: 0.4019 - val_accuracy: 0.8886\n",
      "Epoch 7/10\n",
      "480/480 [==============================] - 86s 179ms/step - loss: 0.1285 - accuracy: 0.9602 - val_loss: 0.3582 - val_accuracy: 0.9080\n",
      "Epoch 8/10\n",
      "480/480 [==============================] - 84s 176ms/step - loss: 0.1189 - accuracy: 0.9630 - val_loss: 0.3539 - val_accuracy: 0.8992\n",
      "Epoch 9/10\n",
      "480/480 [==============================] - 84s 174ms/step - loss: 0.1148 - accuracy: 0.9646 - val_loss: 0.3628 - val_accuracy: 0.9175\n",
      "Epoch 10/10\n",
      "480/480 [==============================] - 85s 178ms/step - loss: 0.1072 - accuracy: 0.9666 - val_loss: 0.3537 - val_accuracy: 0.9023\n",
      "1/1 [==============================] - 1s 583ms/step\n"
     ]
    },
    {
     "data": {
      "text/plain": [
       "'Premature Atrial Contraction'"
      ]
     },
     "execution_count": 1,
     "metadata": {},
     "output_type": "execute_result"
    }
   ],
   "source": [
    "import keras\n",
    "from keras.preprocessing.image import ImageDataGenerator\n",
    "train_datagen=ImageDataGenerator(rescale=1./255,shear_range=0.2,zoom_range=0.2,horizontal_flip=True)\n",
    "test_datagen=ImageDataGenerator(rescale=1./255)\n",
    "import sklearn\n",
    "from sklearn.model_selection import train_test_split\n",
    "x_train=train_datagen.flow_from_directory(directory=r'C:\\Users\\Welcome\\Desktop\\Pava\\IBM Project\\mit arryhythmia database\\extracted db\\data\\train',target_size=(64,64),batch_size=32,class_mode='categorical')\n",
    "x_test=test_datagen.flow_from_directory(directory=r'C:\\Users\\Welcome\\Desktop\\Pava\\IBM Project\\mit arryhythmia database\\extracted db\\data\\test',target_size=(64,64),batch_size=32,class_mode='categorical')\n",
    "import numpy as np\n",
    "import tensorflow as tf\n",
    "from tensorflow.keras.models import Sequential\n",
    "from tensorflow.keras import layers\n",
    "from tensorflow.keras.layers import Dense,Flatten\n",
    "from tensorflow.keras.layers import Conv2D,MaxPooling2D\n",
    "model=Sequential()\n",
    "model.add(Conv2D(32,(3,3),input_shape=(64,64,3),activation='relu'))\n",
    "model.add(MaxPooling2D(pool_size=(2,2)))\n",
    "model.add(Conv2D(32,(3,3),activation='relu'))\n",
    "model.add(MaxPooling2D(pool_size=(2,2)))\n",
    "model.add(Flatten())\n",
    "model.add(Dense(32))\n",
    "model.add(Dense(6,activation='softmax'))\n",
    "model.summary()\n",
    "model.compile(optimizer='adam',loss='categorical_crossentropy',metrics=['accuracy'])\n",
    "model.fit_generator(generator=x_train,steps_per_epoch=len(x_train),epochs=10,validation_data=x_test,validation_steps=len(x_test))\n",
    "model.save('ECG.h5')\n",
    "from tensorflow.keras.models import load_model\n",
    "from keras.preprocessing import image\n",
    "model=load_model(\"ECG.h5\")\n",
    "img=tf.keras.utils.load_img(r\"C:\\Users\\Welcome\\Desktop\\Pava\\IBM Project\\project structure\\uploads\\PAC.png\",target_size=(64,64))\n",
    "x=keras.utils.img_to_array(img)\n",
    "x=np.expand_dims(x,axis=0)\n",
    "predict_x=model.predict(x)\n",
    "classes_x=np.argmax(predict_x,axis=1)\n",
    "predict_x\n",
    "index=['Left Bundle Branch Block','Normal','Premature Atrial Contraction','Premature Ventricular Contractions','Right Bundle Branch Block' , 'Ventricular Fibrillation']\n",
    "result=str(index[classes_x[0]])\n",
    "result\n"
   ]
  },
  {
   "cell_type": "code",
   "execution_count": null,
   "id": "27cdb0cf",
   "metadata": {},
   "outputs": [],
   "source": []
  },
  {
   "cell_type": "code",
   "execution_count": null,
   "id": "4760d099",
   "metadata": {},
   "outputs": [],
   "source": []
  }
 ],
 "metadata": {
  "kernelspec": {
   "display_name": "Python 3 (ipykernel)",
   "language": "python",
   "name": "python3"
  },
  "language_info": {
   "codemirror_mode": {
    "name": "ipython",
    "version": 3
   },
   "file_extension": ".py",
   "mimetype": "text/x-python",
   "name": "python",
   "nbconvert_exporter": "python",
   "pygments_lexer": "ipython3",
   "version": "3.9.12"
  }
 },
 "nbformat": 4,
 "nbformat_minor": 5
}
